{
 "cells": [
  {
   "cell_type": "code",
   "execution_count": 1,
   "metadata": {},
   "outputs": [],
   "source": [
    "from tensorflow.examples.tutorials.mnist import input_data\n",
    "import matplotlib.pyplot as plt\n",
    "import tensorflow as tf\n",
    "import random\n",
    "import numpy as np\n",
    "import time\n",
    "import sys"
   ]
  },
  {
   "cell_type": "code",
   "execution_count": 2,
   "metadata": {},
   "outputs": [
    {
     "name": "stdout",
     "output_type": "stream",
     "text": [
      "Number of Training Data:  60000\n",
      "Number of Test Data:  10000\n",
      "Number of class:  10\n"
     ]
    }
   ],
   "source": [
    "mnist = tf.keras.datasets.mnist\n",
    "(x_train, y_train),(x_test, y_test) = mnist.load_data()\n",
    "\n",
    "nclass = 10\n",
    "ntrain = len(x_train)\n",
    "ntest = len(x_test)\n",
    "\n",
    "x_train = x_train/255.0\n",
    "x_train = np.reshape(x_train, (ntrain, -1))\n",
    "x_test = x_test/255.0\n",
    "x_test = np.reshape(x_test, (ntest, -1))\n",
    "\n",
    "labels = np.zeros((ntrain, nclass))\n",
    "labels[np.arange(ntrain), y_train] = 1\n",
    "y_train = labels\n",
    "\n",
    "labels = np.zeros((ntest, nclass))\n",
    "labels[np.arange(ntest), y_test] = 1\n",
    "y_test = labels\n",
    "\n",
    "print(\"Number of Training Data: \", ntrain)\n",
    "print(\"Number of Test Data: \", ntest)\n",
    "print(\"Number of class: \", nclass)"
   ]
  },
  {
   "cell_type": "code",
   "execution_count": 3,
   "metadata": {
    "scrolled": true
   },
   "outputs": [
    {
     "name": "stdout",
     "output_type": "stream",
     "text": [
      "14510\n",
      "[0. 0. 1. 0. 0. 0. 0. 0. 0. 0.]\n"
     ]
    },
    {
     "data": {
      "image/png": "[encoded data removed]",
      "text/plain": [
       "<Figure size 432x288 with 1 Axes>"
      ]
     },
     "metadata": {
      "needs_background": "light"
     },
     "output_type": "display_data"
    }
   ],
   "source": [
    "idx = np.random.randint(ntrain)\n",
    "\n",
    "imgplot = plt.imshow(np.reshape(x_train[idx], (28,28)))\n",
    "print(idx)\n",
    "print(y_train[idx])"
   ]
  },
  {
   "cell_type": "code",
   "execution_count": 4,
   "metadata": {
    "scrolled": false
   },
   "outputs": [
    {
     "name": "stdout",
     "output_type": "stream",
     "text": [
      "8184\n",
      "[0. 0. 0. 0. 0. 0. 0. 0. 0. 1.]\n"
     ]
    },
    {
     "data": {
      "image/png": "[encoded data removed]",
      "text/plain": [
       "<Figure size 432x288 with 1 Axes>"
      ]
     },
     "metadata": {
      "needs_background": "light"
     },
     "output_type": "display_data"
    }
   ],
   "source": [
    "idx = np.random.randint(ntest)\n",
    "\n",
    "imgplot1 = plt.imshow(np.reshape(x_test[idx], (28,28)))\n",
    "print(idx)\n",
    "print(y_test[idx])"
   ]
  },
  {
   "cell_type": "code",
   "execution_count": 5,
   "metadata": {},
   "outputs": [],
   "source": [
    "######Ouptut layer size determined by labeling function\n",
    "output_layer_size = nclass\n",
    "\n",
    "######Here is the neural net model described in Tensor Flow MNIST example\n",
    "def weight_variable(shape):\n",
    "  initial = tf.truncated_normal(shape, stddev=0.1)\n",
    "  return tf.Variable(initial)\n",
    "\n",
    "def bias_variable(shape):\n",
    "  initial = tf.constant(0.1, shape=shape)\n",
    "  return tf.Variable(initial)\n",
    "\n",
    "def conv2d(x, W):\n",
    "  return tf.nn.conv2d(x, W, strides=[1, 1, 1, 1], padding='SAME')\n",
    "\n",
    "def max_pool_2x2(x):\n",
    "  return tf.nn.max_pool(x, ksize=[1, 2, 2, 1],\n",
    "                        strides=[1, 2, 2, 1], padding='SAME')\n",
    "\n",
    "x  = tf.placeholder(tf.float32, [None, 784], name='x')\n",
    "x_image = tf.reshape(x, [-1, 28, 28, 1])\n",
    "y_ = tf.placeholder(tf.float32, [None, output_layer_size],  name='y_')\n",
    "\n",
    "# Convolutional layer 1\n",
    "W_conv1 = weight_variable([5, 5, 1, 32])\n",
    "b_conv1 = bias_variable([32])\n",
    "h_conv1 = tf.nn.relu(conv2d(x_image, W_conv1) + b_conv1)\n",
    "h_pool1 = max_pool_2x2(h_conv1)\n",
    "\n",
    "# Convolutional layer 2\n",
    "W_conv2 = weight_variable([5, 5, 32, 64])\n",
    "b_conv2 = bias_variable([64])\n",
    "h_conv2 = tf.nn.relu(conv2d(h_pool1, W_conv2) + b_conv2)\n",
    "h_pool2 = max_pool_2x2(h_conv2)\n",
    "\n",
    "# Fully connected layer 1\n",
    "h_pool2_flat = tf.reshape(h_pool2, [-1, 7*7*64])\n",
    "W_fc1 = weight_variable([7 * 7 * 64, 1024])\n",
    "b_fc1 = bias_variable([1024])\n",
    "h_fc1 = tf.nn.relu(tf.matmul(h_pool2_flat, W_fc1) + b_fc1)\n",
    "\n",
    "# Dropout\n",
    "keep_prob  = tf.placeholder(tf.float32)\n",
    "h_fc1_drop = tf.nn.dropout(h_fc1, keep_prob)\n",
    "\n",
    "# Fully connected layer 2 (Output layer)\n",
    "W_fc2 = weight_variable([1024, output_layer_size])\n",
    "b_fc2 = bias_variable([output_layer_size])\n",
    "\n",
    "y = tf.nn.softmax(tf.matmul(h_fc1_drop, W_fc2) + b_fc2, name='y')\n",
    "\n",
    "# Evaluation functions\n",
    "cross_entropy = tf.reduce_mean(-tf.reduce_sum(y_ * tf.log(y), reduction_indices=[1]))\n",
    "\n",
    "correct_prediction = tf.equal(tf.argmax(y, 1), tf.argmax(y_, 1))\n",
    "accuracy = tf.reduce_mean(tf.cast(correct_prediction, tf.float32), name='accuracy')\n",
    "\n",
    "# Training algorithm\n",
    "train_step = tf.train.AdamOptimizer(1e-4).minimize(cross_entropy)"
   ]
  },
  {
   "cell_type": "code",
   "execution_count": 6,
   "metadata": {},
   "outputs": [],
   "source": [
    "\n",
    "def ranker_random(examples, sess=None):\n",
    "    return np.random.randint(10, size=len(examples))\n",
    "\n",
    "def ranker_max_min(examples, sess):\n",
    "    return [abs(np.max(s) - np.min(s)) for s in sess.run(y, feed_dict={x: examples, keep_prob: 1.0})]\n",
    "\n",
    "def ranker_best_second(examples, sess):\n",
    "    return [s[-1] - s[-2] for s in np.sort(sess.run(y, feed_dict={x: examples, keep_prob: 1.0}), axis=1)]\n",
    "\n",
    "def ranker_bayesian(examples, sess):\n",
    "    predicts = np.asarray([sess.run(y, feed_dict={x: examples, keep_prob: 0.5}) for i in range(15)])\n",
    "    var = np.var(predicts, axis=0)\n",
    "    var_sum = np.sum(var, axis=1)\n",
    "    return var_sum\n"
   ]
  },
  {
   "cell_type": "code",
   "execution_count": 7,
   "metadata": {},
   "outputs": [],
   "source": [
    "# TODO: rename batch_size, return np array instead of list\n",
    "\n",
    "###### Ranks mnist training images according to a rank function (random for normal, \n",
    "###### model evaluation for active learning)\n",
    "def choose_examples(datas = x_train, remain = [], batch_size = 50, ranker = ranker_random, chosen = [], sess = None):\n",
    "\n",
    "    #do not look at examples that have already been seen\n",
    "    lookup_index = range(0, ntrain)\n",
    "    look_size = min(batch_size * 30, len(remain))\n",
    "    random_draw = random.sample(range(len(remain)), look_size)\n",
    "\n",
    "    #rank the examples according to the rank function\n",
    "    remain_idx = remain[random_draw]\n",
    "    remain_data = datas[remain_idx]\n",
    "    remain = np.delete(remain, idx)\n",
    "    ranks = ranker(remain_data, sess)\n",
    "    scores = np.column_stack((remain_idx, ranks))\n",
    "    sort = scores[np.argsort(scores[:,1])]\n",
    "\n",
    "    #select examples based on their scores. we only pick the first {batch_size}th of data\n",
    "    batch_size = min(batch_size, len(scores))\n",
    "    selected = sort[:batch_size, 0]\n",
    "    return [selected.astype(int).tolist(), remain]"
   ]
  },
  {
   "cell_type": "code",
   "execution_count": 8,
   "metadata": {},
   "outputs": [],
   "source": [
    "######trains one model on a subset of mnist data for a certian number of epochs\n",
    "def epoch_sample(chosen, batch_size, epochs, sess):\n",
    "    \n",
    "    sess.run(tf.global_variables_initializer())\n",
    "    runs = int(len(chosen) / batch_size)\n",
    "\n",
    "    for epoch in range(epochs):\n",
    "        random.shuffle(chosen)\n",
    "        \n",
    "        for i in range(runs):\n",
    "            end = min((i + 1) * batch_size, len(chosen)-1)\n",
    "            batch_idx = chosen[i * batch_size: end]\n",
    "            training_data = x_train[batch_idx]\n",
    "            training_labels = y_train[batch_idx]\n",
    "            sess.run(train_step, feed_dict={x: training_data, y_: training_labels, keep_prob: 0.5})\n",
    "\n",
    "    [epoch_acc, epoch_ce] = sess.run([accuracy, cross_entropy], feed_dict={x: x_test, y_: y_test, keep_prob: 1.0})\n",
    "    print(\"Labels: \", len(chosen), \" Epochs: \", epochs, \" Acc: \", epoch_acc, \" Cross Entropy: \", epoch_ce)\n",
    "    \n",
    "    return [epoch_acc, epoch_ce]"
   ]
  },
  {
   "cell_type": "code",
   "execution_count": 9,
   "metadata": {},
   "outputs": [],
   "source": [
    "\n",
    "def run_batch(size, max_steps, ranker, print_every):\n",
    "    #run_log = []\n",
    "    #batch_log = []\n",
    "    chosen = []\n",
    "    remain = np.arange(ntrain)\n",
    "\n",
    "    with tf.Session() as sess:\n",
    "        sess.run(tf.global_variables_initializer())\n",
    "\n",
    "        print(\"Select Active Learning Dataset\")\n",
    "        timer1 = 0\n",
    "        timer2 = 0\n",
    "        for step in range(max_steps):\n",
    "            \n",
    "            start_time = time.time()\n",
    "            #if re-sampling turned on, will double size of the mini-batch\n",
    "            #by randomly sampling from previously trained on exmaples\n",
    "            next_batch, remain = choose_examples(x_train, remain, size, ranker, chosen, sess)\n",
    "            chosen = chosen + next_batch\n",
    "            if len(remain) <= 0:\n",
    "                remain = np.arange(ntrain)\n",
    "\n",
    "            batch_xs = x_train[next_batch]\n",
    "            batch_ys = y_train[next_batch]\n",
    "            end_time = time.time()\n",
    "            timer1 = timer1 + end_time - start_time\n",
    "\n",
    "            #Train the model using the mini-batch\n",
    "            start_time = time.time()\n",
    "            sess.run(train_step, feed_dict={x: batch_xs, y_: batch_ys, keep_prob: 0.5})\n",
    "\n",
    "            if (step % print_every) == 0:\n",
    "                [acc, ce] = sess.run([accuracy, cross_entropy], feed_dict={x: x_test, y_: y_test, keep_prob: 1.0})\n",
    "#                 print(acc)\n",
    "#                 run_log.append([step, acc, ce])\n",
    "            end_time = time.time()\n",
    "            timer2 = timer2 + end_time - start_time\n",
    "\n",
    "        print(timer1)\n",
    "        print(timer2)\n",
    "        [final, final_ce] = sess.run([accuracy, cross_entropy], feed_dict={x: x_test, y_: y_test, keep_prob: 1.0})\n",
    "        #run_log.append([max_steps, final, final_ce])\n",
    "        #batch_log.append(run_log)\n",
    "\n",
    "        #start multi-epoch portion (kind of pasted on at the end)\n",
    "        epoch_logs = []\n",
    "        label_range = 250\n",
    "        epochs = 20\n",
    "        epoch_batch_size = 50\n",
    "        iteration = 20\n",
    "\n",
    "        print(\"\\nStart Training the Network with the selected Dataset\")\n",
    "        start_time = time.time()\n",
    "        #for label_size in range(iteration):\n",
    "        labels_length = (iteration + 1) * label_range\n",
    "        result = epoch_sample(chosen[0: labels_length], epoch_batch_size, epochs, sess)\n",
    "        end_time = time.time()\n",
    "        print(end_time - start_time)\n",
    "        #epoch_logs.append([labels_length, epochs, result[0], result[1]])\n",
    "\n",
    "#         print(\"labels\\tepoch\\taccuracy\\tcross entropy\")\n",
    "#         for entry in epoch_logs:\n",
    "#             print(entry[0], \"\\t\", entry[1], \"\\t\", entry[2], \"\\t\", entry[3])\n",
    "    print(\"\\nFinish Training\")\n",
    "    #return batch_log\n",
    "    return"
   ]
  },
  {
   "cell_type": "code",
   "execution_count": 10,
   "metadata": {},
   "outputs": [],
   "source": [
    "#def print_average_series(to_average, columns, column_names):\n",
    "#    labels = [int(a[0]) for a in to_average[0]]\n",
    "#   column_collection = []\n",
    "#   for column in columns:\n",
    "#         transformed = []\n",
    "#         for run in to_average:\n",
    "#             transformed.append([a[column] for a in run])\n",
    "#         column_collection.append(np.mean(np.transpose(transformed), axis=1))\n",
    "#     column_collection.insert(0, np.array(labels))\n",
    "#     column_names.insert(0, 'iteration')\n",
    "#     print(*column_names, sep='\\t')\n",
    "#     for row in np.transpose(column_collection):\n",
    "#         print(*row, sep='\\t')"
   ]
  },
  {
   "cell_type": "code",
   "execution_count": 11,
   "metadata": {
    "scrolled": false
   },
   "outputs": [
    {
     "name": "stdout",
     "output_type": "stream",
     "text": [
      "Select Active Learning Dataset\n",
      "12.888977766036987\n",
      "8.751887321472168\n",
      "\n",
      "Start Training the Network with the selected Dataset\n",
      "Labels:  5250  Epochs:  20  Acc:  0.9823  Cross Entropy:  0.05678132\n",
      "18.22598361968994\n",
      "\n",
      "Finish Training\n",
      "40.842612743377686\n"
     ]
    }
   ],
   "source": [
    "batch_size = 10\n",
    "iterations = 1000\n",
    "print_every = 100\n",
    "ranker = ranker_best_second\n",
    "\n",
    "start_time = time.time()\n",
    "\n",
    "\n",
    "results = run_batch(batch_size, iterations, ranker, print_every)\n",
    "#pint_average_series(results, [1, 2], [\"accuracy\", \"cross entropy\"])\n",
    "\n",
    "\n",
    "end_time = time.time()\n",
    "print(end_time - start_time)\n"
   ]
  },
  {
   "cell_type": "raw",
   "metadata": {},
   "source": []
  }
 ],
 "metadata": {
  "kernelspec": {
   "display_name": "Python 3",
   "language": "python",
   "name": "python3"
  },
  "language_info": {
   "codemirror_mode": {
    "name": "ipython",
    "version": 3
   },
   "file_extension": ".py",
   "mimetype": "text/x-python",
   "name": "python",
   "nbconvert_exporter": "python",
   "pygments_lexer": "ipython3",
   "version": "3.6.7"
  }
 },
 "nbformat": 4,
 "nbformat_minor": 2
}
